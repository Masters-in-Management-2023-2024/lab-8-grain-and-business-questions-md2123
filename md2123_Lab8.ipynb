{
  "cells": [
    {
      "cell_type": "markdown",
      "metadata": {
        "id": "ODqh1psJ1GwQ"
      },
      "source": [
        "# Diamond Company Analytics Challenge\n",
        "\n",
        "**Time:** 35 minutes\n",
        "\n",
        "**Scenario:** You are the new data analyst at a prestigious diamond company. The CEO has called an urgent meeting and needs answers to critical business questions about the inventory.\n",
        "\n",
        "**Your Mission:** Analyze the diamond inventory data and provide insights to guide strategic decisions."
      ]
    },
    {
      "cell_type": "code",
      "execution_count": 2,
      "metadata": {
        "id": "RAHWURPw1GwQ",
        "colab": {
          "base_uri": "https://localhost:8080/"
        },
        "outputId": "48921cc9-b2aa-47fb-f97f-572469518960"
      },
      "outputs": [
        {
          "output_type": "stream",
          "name": "stdout",
          "text": [
            "Loading diamonds dataset...\n",
            "Dataset loaded successfully!\n"
          ]
        }
      ],
      "source": [
        "import polars as pl\n",
        "\n",
        "# Load the diamonds dataset\n",
        "print(\"Loading diamonds dataset...\")\n",
        "df = pl.read_csv('https://raw.githubusercontent.com/pycaret/pycaret/master/datasets/diamond.csv')\n",
        "print(\"Dataset loaded successfully!\")"
      ]
    },
    {
      "cell_type": "markdown",
      "metadata": {
        "id": "iUTiq2HZ1GwR"
      },
      "source": [
        "## Section 1: Initial Inventory Assessment (5 minutes)\n",
        "\n",
        "The CEO walks in: \"Before we dive into specifics, I need to understand what we're working with. Give me the basics about our inventory database.\""
      ]
    },
    {
      "cell_type": "markdown",
      "metadata": {
        "id": "nHIpkZsD1GwR"
      },
      "source": [
        "### Question 1: \"How extensive is our inventory database?\"\n",
        "\n",
        "The CEO needs to know the scale of data you're analyzing."
      ]
    },
    {
      "cell_type": "code",
      "execution_count": 3,
      "metadata": {
        "id": "EQUd6Wej1GwR",
        "colab": {
          "base_uri": "https://localhost:8080/"
        },
        "outputId": "e9810a60-fff3-4e5f-8525-409d24a80e4b"
      },
      "outputs": [
        {
          "output_type": "stream",
          "name": "stdout",
          "text": [
            "Our data base has 6000 rows and 8 columns.\n"
          ]
        }
      ],
      "source": [
        "# Your code here:\n",
        "\n",
        "print(\"Our data base has\",(df.height),\"rows and\",(df.width),\"columns.\")"
      ]
    },
    {
      "cell_type": "markdown",
      "metadata": {
        "id": "V9EURbWX1GwR"
      },
      "source": [
        "### Question 2: \"What information do we track about each diamond?\"\n",
        "\n",
        "List all the characteristics we record."
      ]
    },
    {
      "cell_type": "code",
      "execution_count": 4,
      "metadata": {
        "id": "fgAFGKi-1GwR",
        "colab": {
          "base_uri": "https://localhost:8080/"
        },
        "outputId": "8ca41b71-9c58-48aa-876a-6a617414666f"
      },
      "outputs": [
        {
          "output_type": "stream",
          "name": "stdout",
          "text": [
            "Our data base has the following columns: ['Carat Weight', 'Cut', 'Color', 'Clarity', 'Polish', 'Symmetry', 'Report', 'Price']\n"
          ]
        }
      ],
      "source": [
        "# Your code here:\n",
        "print(\"Our data base has the following columns:\",(df.columns))"
      ]
    },
    {
      "cell_type": "markdown",
      "metadata": {
        "id": "woTE13an1GwR"
      },
      "source": [
        "### Question 3: \"When I look at one line in this database, what am I looking at?\"\n",
        "\n",
        "Explain in business terms:"
      ]
    },
    {
      "cell_type": "markdown",
      "metadata": {
        "id": "xz_8plAn1GwR"
      },
      "source": [
        "**Your answer:** Each row represents: a unique diamond"
      ]
    },
    {
      "cell_type": "markdown",
      "metadata": {
        "id": "TSSgnXaE1GwR"
      },
      "source": [
        "## Section 2: Strategic Business Questions (20 minutes)\n",
        "\n",
        "The CEO continues: \"Now let's get to the important questions. Our board meeting is tomorrow and I need concrete numbers.\""
      ]
    },
    {
      "cell_type": "markdown",
      "metadata": {
        "id": "AioGAzcd1GwR"
      },
      "source": [
        "### Question 4: \"We're considering expanding our storage facilities. How many total carats do we have in inventory? I need to know if our vaults can handle the weight.\"\n",
        "\n",
        "Think about what measurement would help answer this."
      ]
    },
    {
      "cell_type": "code",
      "execution_count": 5,
      "metadata": {
        "id": "XoqVw0oP1GwR",
        "colab": {
          "base_uri": "https://localhost:8080/"
        },
        "outputId": "a43c00f3-0476-4988-cbd4-e8044cde649d"
      },
      "outputs": [
        {
          "output_type": "stream",
          "name": "stdout",
          "text": [
            "We currently have 8,007 carats.\n"
          ]
        }
      ],
      "source": [
        "# Your code here:\n",
        "total_carats = df.select(pl.col(\"Carat Weight\").sum())\n",
        "total_carats = total_carats.item()\n",
        "print(f\"We currently have {total_carats:,.0f} carats.\")\n"
      ]
    },
    {
      "cell_type": "markdown",
      "metadata": {
        "id": "KNzvXqek1GwR"
      },
      "source": [
        "### Question 5: \"Our new marketing campaign claims we have 'the widest variety of cuts in the industry.' Can you verify this?\"\n",
        "\n",
        "The CEO wants to know about variety, not quantity."
      ]
    },
    {
      "cell_type": "code",
      "execution_count": 13,
      "metadata": {
        "id": "99JuSY1f1GwR",
        "colab": {
          "base_uri": "https://localhost:8080/"
        },
        "outputId": "3c73a325-0380-420b-ff89-31e880501eac"
      },
      "outputs": [
        {
          "output_type": "stream",
          "name": "stdout",
          "text": [
            "We have 5 variaties of cuts:  ['Fair', 'Signature-Ideal', 'Good', 'Ideal', 'Very Good']\n"
          ]
        }
      ],
      "source": [
        "# Your code here:\n",
        "unique_cuts = df.select(pl.col(\"Cut\")).unique().height\n",
        "print(\"We have\",(unique_cuts),\"variaties of cuts: \",(df.select(pl.col(\"Cut\")).unique()).to_series().to_list())\n"
      ]
    },
    {
      "cell_type": "markdown",
      "metadata": {
        "id": "BDPqR5SF1GwR"
      },
      "source": [
        "### Question 6: \"I'm meeting with our insurance company. They need to know our price exposure - what's our most and least valuable diamond?\""
      ]
    },
    {
      "cell_type": "code",
      "execution_count": 28,
      "metadata": {
        "id": "ZTYuRRIB1GwR",
        "colab": {
          "base_uri": "https://localhost:8080/"
        },
        "outputId": "4dd20cea-fd2b-4b27-ce59-a6f0825476a8"
      },
      "outputs": [
        {
          "output_type": "stream",
          "name": "stdout",
          "text": [
            "The most valuable diamond is worth $101,561.00.\n",
            "The least valuable diamond is worth $2,184.00.\n"
          ]
        }
      ],
      "source": [
        "# Your code here:\n",
        "max_price = df.select(pl.col(\"Price\")).max()\n",
        "min_price = df.select(pl.col(\"Price\")).min()\n",
        "\n",
        "max_price = max_price.item()\n",
        "min_price = min_price.item()\n",
        "\n",
        "print(f\"The most valuable diamond is worth ${max_price:,.2f}.\")\n",
        "print(f\"The least valuable diamond is worth ${min_price:,.2f}.\")"
      ]
    },
    {
      "cell_type": "markdown",
      "metadata": {
        "id": "2jI4hW5t1GwR"
      },
      "source": [
        "### Question 7: \"Which color grades should we focus on in our premium line? I need typical prices across our color spectrum.\"\n",
        "\n",
        "The CEO wants to understand pricing patterns."
      ]
    },
    {
      "cell_type": "code",
      "execution_count": 43,
      "metadata": {
        "id": "_e_KKcW31GwR",
        "colab": {
          "base_uri": "https://localhost:8080/"
        },
        "outputId": "e8ab0eb9-bc94-477f-c5d5-7bd3507a2d2a"
      },
      "outputs": [
        {
          "output_type": "stream",
          "name": "stdout",
          "text": [
            "shape: (6, 2)\n",
            "┌───────┬───────────────┐\n",
            "│ Color ┆ Average Price │\n",
            "│ ---   ┆ ---           │\n",
            "│ str   ┆ f64           │\n",
            "╞═══════╪═══════════════╡\n",
            "│ D     ┆ 15255.78      │\n",
            "│ F     ┆ 12712.24      │\n",
            "│ G     ┆ 12520.05      │\n",
            "│ E     ┆ 11539.19      │\n",
            "│ H     ┆ 10487.35      │\n",
            "│ I     ┆ 8989.64       │\n",
            "└───────┴───────────────┘\n"
          ]
        }
      ],
      "source": [
        "# Your code here:\n",
        "avg_price_per_color = df.group_by(\"Color\").agg(pl.col(\"Price\").mean().round(2).alias(\"Average Price\"))\n",
        "avg_price_per_color = avg_price_per_color.sort(\"Average Price\",descending=True)\n",
        "print(avg_price_per_color)"
      ]
    },
    {
      "cell_type": "markdown",
      "metadata": {
        "id": "PZpdEPGL1GwR"
      },
      "source": [
        "**Reflection:** After analyzing by color, how has your view of the data changed? What does each row in your result represent now?"
      ]
    },
    {
      "cell_type": "markdown",
      "metadata": {
        "id": "Q2kDV1vb1GwR"
      },
      "source": [
        "**Your answer:** New grain = unique colors of a diamond"
      ]
    },
    {
      "cell_type": "markdown",
      "metadata": {
        "id": "S8CNFT3M1GwR"
      },
      "source": [
        "## Section 3: Advanced Strategic Analysis (10 minutes)\n",
        "\n",
        "The CEO leans forward: \"These next questions will shape our strategy for next year.\""
      ]
    },
    {
      "cell_type": "markdown",
      "metadata": {
        "id": "uELG7yvf1GwR"
      },
      "source": [
        "### Question 8: \"We're thinking of specializing in certain clarity grades. For our investor deck, I need a complete breakdown showing: how many diamonds we have in each clarity grade, their typical price, and the total carats we're holding for each grade.\""
      ]
    },
    {
      "cell_type": "code",
      "source": [
        "# Your code here:\n",
        "clarity_grades = df.group_by(\"Clarity\").agg(\n",
        "    pl.col(\"Price\").mean().round(2).alias(\"Average Price\"),\n",
        "    pl.col(\"Carat Weight\").sum().round(2).alias(\"Total Carats\"),\n",
        "    pl.count().alias(\"Number of Diamonds\")\n",
        ")\n",
        "clarity_grades = clarity_grades.sort(\"Average Price\",descending=True)\n",
        "print(clarity_grades)"
      ],
      "metadata": {
        "colab": {
          "base_uri": "https://localhost:8080/"
        },
        "id": "Rb6HQclzQ6rf",
        "outputId": "ac4c1467-b735-455d-ed87-08013d04bca6"
      },
      "execution_count": 8,
      "outputs": [
        {
          "output_type": "stream",
          "name": "stdout",
          "text": [
            "shape: (7, 4)\n",
            "┌─────────┬───────────────┬──────────────┬────────────────────┐\n",
            "│ Clarity ┆ Average Price ┆ Total Carats ┆ Number of Diamonds │\n",
            "│ ---     ┆ ---           ┆ ---          ┆ ---                │\n",
            "│ str     ┆ f64           ┆ f64          ┆ u32                │\n",
            "╞═════════╪═══════════════╪══════════════╪════════════════════╡\n",
            "│ FL      ┆ 63776.0       ┆ 7.87         ┆ 4                  │\n",
            "│ IF      ┆ 22105.84      ┆ 316.0        ┆ 219                │\n",
            "│ VVS1    ┆ 16845.68      ┆ 389.43       ┆ 285                │\n",
            "│ VVS2    ┆ 14142.18      ┆ 876.58       ┆ 666                │\n",
            "│ VS1     ┆ 13694.11      ┆ 1682.74      ┆ 1192               │\n",
            "│ VS2     ┆ 11809.05      ┆ 2170.81      ┆ 1575               │\n",
            "│ SI1     ┆ 8018.86       ┆ 2563.69      ┆ 2059               │\n",
            "└─────────┴───────────────┴──────────────┴────────────────────┘\n"
          ]
        },
        {
          "output_type": "stream",
          "name": "stderr",
          "text": [
            "/tmp/ipython-input-2368881381.py:5: DeprecationWarning: `pl.count()` is deprecated. Please use `pl.len()` instead.\n",
            "  pl.count().alias(\"Number of Diamonds\")\n"
          ]
        }
      ]
    },
    {
      "cell_type": "markdown",
      "metadata": {
        "id": "idxkze6c1GwR"
      },
      "source": [
        "### Question 9: \"My luxury competitor claims they have the best prices for every cut-color combination. Show me our pricing structure across these combinations - I want to see where we're competitive.\""
      ]
    },
    {
      "cell_type": "code",
      "execution_count": 9,
      "metadata": {
        "id": "eLtfR3Ns1GwR",
        "colab": {
          "base_uri": "https://localhost:8080/"
        },
        "outputId": "b1043c3b-5f43-4f3a-d2b0-5d5e8322253c"
      },
      "outputs": [
        {
          "output_type": "stream",
          "name": "stdout",
          "text": [
            "shape: (30, 3)\n",
            "┌─────────────────┬───────┬───────────────┐\n",
            "│ Cut             ┆ Color ┆ Average Price │\n",
            "│ ---             ┆ ---   ┆ ---           │\n",
            "│ str             ┆ str   ┆ f64           │\n",
            "╞═════════════════╪═══════╪═══════════════╡\n",
            "│ Signature-Ideal ┆ D     ┆ 19823.1       │\n",
            "│ Ideal           ┆ D     ┆ 18461.95      │\n",
            "│ Ideal           ┆ F     ┆ 14729.43      │\n",
            "│ Ideal           ┆ G     ┆ 13570.31      │\n",
            "│ Signature-Ideal ┆ F     ┆ 13247.95      │\n",
            "│ …               ┆ …     ┆ …             │\n",
            "│ Fair            ┆ F     ┆ 6063.63       │\n",
            "│ Fair            ┆ D     ┆ 6058.25       │\n",
            "│ Fair            ┆ H     ┆ 5908.5        │\n",
            "│ Fair            ┆ E     ┆ 5370.63       │\n",
            "│ Fair            ┆ I     ┆ 4573.19       │\n",
            "└─────────────────┴───────┴───────────────┘\n"
          ]
        }
      ],
      "source": [
        "# Your code here:\n",
        "cut_color_price = df.group_by([\"Cut\", \"Color\"]).agg(\n",
        "    pl.col(\"Price\").mean().round(2).alias(\"Average Price\")\n",
        ")\n",
        "cut_color_price = cut_color_price.sort(\"Average Price\",descending=True)\n",
        "print(cut_color_price)"
      ]
    },
    {
      "cell_type": "markdown",
      "metadata": {
        "id": "lMSfbEyk1GwR"
      },
      "source": [
        "**Reflection:** How specific is your analysis now? What level of detail does each row represent?"
      ]
    },
    {
      "cell_type": "markdown",
      "metadata": {
        "id": "NVYc87lX1GwR"
      },
      "source": [
        "**Your answer:** New grain = unique cut AND color combinations of diamonds"
      ]
    },
    {
      "cell_type": "markdown",
      "metadata": {
        "id": "GW-z87b31GwR"
      },
      "source": [
        "### Question 10: URGENT - \"Our biggest client is interested in purchasing entire inventory segments. They asked: 'Which color-cut combinations represent your highest total inventory value?' Show me the top 5 most valuable inventory segments by total worth, and include how many diamonds are in each segment.\"\n",
        "\n",
        "This is critical for tomorrow's negotiation."
      ]
    },
    {
      "cell_type": "code",
      "execution_count": 15,
      "metadata": {
        "id": "escJzkE91GwR",
        "colab": {
          "base_uri": "https://localhost:8080/"
        },
        "outputId": "7890ce0c-667a-467c-e160-dde8887d505a"
      },
      "outputs": [
        {
          "output_type": "stream",
          "name": "stdout",
          "text": [
            "shape: (5, 4)\n",
            "┌───────┬─────────────────┬───────────────┬────────────────────┐\n",
            "│ Color ┆ Cut             ┆ Average Price ┆ Number of Diamonds │\n",
            "│ ---   ┆ ---             ┆ ---           ┆ ---                │\n",
            "│ str   ┆ str             ┆ f64           ┆ u32                │\n",
            "╞═══════╪═════════════════╪═══════════════╪════════════════════╡\n",
            "│ D     ┆ Signature-Ideal ┆ 19823.1       ┆ 30                 │\n",
            "│ D     ┆ Ideal           ┆ 18461.95      ┆ 280                │\n",
            "│ F     ┆ Ideal           ┆ 14729.43      ┆ 363                │\n",
            "│ G     ┆ Ideal           ┆ 13570.31      ┆ 690                │\n",
            "│ F     ┆ Signature-Ideal ┆ 13247.95      ┆ 38                 │\n",
            "└───────┴─────────────────┴───────────────┴────────────────────┘\n"
          ]
        },
        {
          "output_type": "stream",
          "name": "stderr",
          "text": [
            "/tmp/ipython-input-3293466298.py:4: DeprecationWarning: `pl.count()` is deprecated. Please use `pl.len()` instead.\n",
            "  pl.count().alias(\"Number of Diamonds\")\n"
          ]
        }
      ],
      "source": [
        "# Your code here:\n",
        "unique_color_cut = df.group_by([\"Color\", \"Cut\"]).agg(\n",
        "    pl.col(\"Price\").mean().round(2).alias(\"Average Price\"),\n",
        "    pl.count().alias(\"Number of Diamonds\")\n",
        ")\n",
        "unique_color_cut = unique_color_cut.sort(\"Average Price\",descending=True).head(5)\n",
        "print(unique_color_cut)\n",
        "\n",
        "##count"
      ]
    },
    {
      "cell_type": "markdown",
      "metadata": {
        "id": "JkPHasBy1GwR"
      },
      "source": [
        "## Debrief\n",
        "\n",
        "Congratulations! You've just completed your first day as the diamond company's data analyst.\n",
        "\n",
        "Remember:\n",
        "- CEOs speak in business language, not technical terms\n",
        "- Always understand what each row represents before analyzing\n",
        "- Business questions contain clues about which operations to use"
      ]
    }
  ],
  "metadata": {
    "kernelspec": {
      "display_name": "Python 3",
      "language": "python",
      "name": "python3"
    },
    "language_info": {
      "codemirror_mode": {
        "name": "ipython",
        "version": 3
      },
      "file_extension": ".py",
      "mimetype": "text/x-python",
      "name": "python",
      "nbconvert_exporter": "python",
      "pygments_lexer": "ipython3",
      "version": "3.12.0"
    },
    "colab": {
      "provenance": []
    }
  },
  "nbformat": 4,
  "nbformat_minor": 0
}